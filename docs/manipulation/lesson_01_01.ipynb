{
 "cells": [
  {
   "cell_type": "markdown",
   "metadata": {},
   "source": [
    "# Reading, Slicing and Plotting Stocks"
   ]
  },
  {
   "cell_type": "markdown",
   "metadata": {},
   "source": [
    "Python is used as a language of choice because it allows one to quickly protype algorithms with a fast computational speed. Some of it's main features are:\n",
    "- Strong scientific libraries\n",
    "- Strongly maintained \n",
    "- Fast \n",
    "\n",
    "## Lesson Outline \n",
    "1. Read stock data from CSV files using pandas DataFrame \n",
    "1. Select subset of the data in the DataFrame through slicing and indexing \n",
    "1. Visualize data using plots "
   ]
  },
  {
   "cell_type": "markdown",
   "metadata": {},
   "source": [
    "The file type we'll primarily work with is the Comma Separated Value (CSV) files. Below is an example \n",
    "of some real stock data "
   ]
  },
  {
   "cell_type": "code",
   "execution_count": null,
   "metadata": {},
   "outputs": [],
   "source": []
  },
  {
   "cell_type": "code",
   "execution_count": null,
   "metadata": {},
   "outputs": [],
   "source": []
  },
  {
   "cell_type": "markdown",
   "metadata": {},
   "source": [
    "% This HTML activates utteranc.es only on this page\n",
    "<script src=\"https://utteranc.es/client.js\"\n",
    "       repo=\"callistusndemo/ml-for-trading\"\n",
    "       issue-term=\"pathname\"\n",
    "       label=\"comments\"\n",
    "       theme=\"github-light\"\n",
    "       crossorigin=\"anonymous\"\n",
    "       async>\n",
    "</script>"
   ]
  }
 ],
 "metadata": {
  "kernelspec": {
   "display_name": "Python 3",
   "language": "python",
   "name": "python3"
  },
  "language_info": {
   "codemirror_mode": {
    "name": "ipython",
    "version": 3
   },
   "file_extension": ".py",
   "mimetype": "text/x-python",
   "name": "python",
   "nbconvert_exporter": "python",
   "pygments_lexer": "ipython3",
   "version": "3.8.5"
  }
 },
 "nbformat": 4,
 "nbformat_minor": 4
}
