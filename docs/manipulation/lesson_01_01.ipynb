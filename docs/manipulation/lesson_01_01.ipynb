{
 "cells": [
  {
   "cell_type": "markdown",
   "metadata": {},
   "source": [
    "# Reading, Slicing and Plotting Stocks"
   ]
  },
  {
   "cell_type": "markdown",
   "metadata": {},
   "source": [
    "## Lesson Outline \n",
    "1. Read stock data from CSV files using pandas DataFrame \n",
    "1. Select subset of the data in the DataFrame through slicing and indexing \n",
    "1. Visualize data using plots "
   ]
  },
  {
   "cell_type": "markdown",
   "metadata": {},
   "source": [
    "We'll primarily work with Comma Separated Value (CSV) files for the class. Below is an example of a CSV file with APPL stock from [Yahoo](https://finance.yahoo.com/quote/AAPL/history?p=AAPL). \n",
    "\n",
    "```csv\n",
    "Date,Open,High,Low,Close,Adj Close,Volume\n",
    "1980-12-12,0.513393,0.515625,0.513393,0.513393,0.404953,117258400\n",
    "1980-12-15,0.488839,0.488839,0.486607,0.486607,0.383825,43971200\n",
    "1980-12-16,0.453125,0.453125,0.450893,0.450893,0.355655,26432000\n",
    "...\n",
    "2020-08-17,464.250000,464.350006,455.850006,458.429993,458.429993,29890400\n",
    "2020-08-18,457.410004,464.000000,456.029999,462.250000,462.250000,26408400\n",
    "2020-08-19,463.929993,468.649994,462.440002,462.829987,462.829987,36283800\n",
    "```\n",
    "\n",
    "- `Date` - Day of transaction\n",
    "- `Open` - The Opening price of the stock\n",
    "- `High` - Highest stock price on that date\n",
    "- `Low` - Lowest stock price on that date\n",
    "- `Close` -  Closing price of the stock. \n",
    "- `Adj Close` - Closing price adjusted for [dividends](https://www.investor.gov/introduction-investing/investing-basics/glossary/dividend) and [stock splits](https://www.investor.gov/introduction-investing/investing-basics/glossary/stock-split)\n",
    "- `Volume` - The amount of shares traded for that date \n",
    "\n",
    "```{note}\n",
    "The data in the APPL.csv is in a reverse order starting with the earliest date. This is something we'll fix later.\n",
    "```"
   ]
  },
  {
   "cell_type": "code",
   "execution_count": null,
   "metadata": {},
   "outputs": [],
   "source": []
  },
  {
   "cell_type": "code",
   "execution_count": null,
   "metadata": {},
   "outputs": [],
   "source": []
  },
  {
   "cell_type": "markdown",
   "metadata": {},
   "source": []
  }
 ],
 "metadata": {
  "kernelspec": {
   "display_name": "Python 3",
   "language": "python",
   "name": "python3"
  },
  "language_info": {
   "codemirror_mode": {
    "name": "ipython",
    "version": 3
   },
   "file_extension": ".py",
   "mimetype": "text/x-python",
   "name": "python",
   "nbconvert_exporter": "python",
   "pygments_lexer": "ipython3",
   "version": "3.8.5"
  }
 },
 "nbformat": 4,
 "nbformat_minor": 4
}
